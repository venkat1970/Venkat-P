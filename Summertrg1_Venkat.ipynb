{
  "nbformat": 4,
  "nbformat_minor": 0,
  "metadata": {
    "colab": {
      "name": "Summertrg1-Venkat.ipynb",
      "provenance": [],
      "collapsed_sections": []
    },
    "kernelspec": {
      "name": "python3",
      "display_name": "Python 3"
    },
    "language_info": {
      "name": "python"
    }
  },
  "cells": [
    {
      "cell_type": "markdown",
      "source": [
        "# **Summer Training @ NIELIT Chandigarh**"
      ],
      "metadata": {
        "id": "but8j-S2cXDX"
      }
    },
    {
      "cell_type": "markdown",
      "source": [
        "#Python Basics and History"
      ],
      "metadata": {
        "id": "CbF1Xc8hR1hA"
      }
    },
    {
      "cell_type": "markdown",
      "source": [
        ""
      ],
      "metadata": {
        "id": "O99B0ElpcUie"
      }
    },
    {
      "cell_type": "markdown",
      "source": [
        "Python is a computer programming language, that was created by Guido van Rossum, named after the BBC television show ‘Monty Python’s Flying Circus.’ \n",
        "It is very popular and very easy to learn and has enormous applications.\n",
        "It is case sensitive \n"
      ],
      "metadata": {
        "id": "BdfqVTgM4vDA"
      }
    },
    {
      "cell_type": "markdown",
      "source": [
        "Features\n",
        "\n",
        "- General purpose, Object oriented and interactive high level programming language\n",
        "- It is dynamically typed\n",
        "- No manual compilation is required\n",
        "- Cross Platform\n",
        "- Extensible\n",
        "- Open source with support through a rich set of libraries and IDEs\n",
        "- Automatic garbage collection\n"
      ],
      "metadata": {
        "id": "5LcJ4qaNqG_I"
      }
    },
    {
      "cell_type": "markdown",
      "source": [
        "Support for languages and frameworks\n",
        "- Cpython - Written in C\n",
        "- Jpython - For Java JVM\n",
        "- IronPython - For .NET framework\n",
        "- Django - For writing web applications\n",
        "\n",
        "Supported IDEs\n",
        "- Jupyter\n",
        "- Spyder\n",
        "- PyCharm\n",
        "- Rodeo\n",
        "- ATOM IDE\n",
        "\n",
        "Libraries popularly used in Python\n",
        "- Numpy - Provides large multi dimensional array functionality\n",
        "- Pandas - Provides dataframes\n",
        "- MatplotLib - For plotting 2 dim data\n",
        "- Cartopy - For GIS data\n",
        "\n",
        "Common DataTypes support\n",
        "- Int\n",
        "- char\n",
        "- float\n",
        "- string\n",
        "- list\n",
        "- tuple\n",
        "- dictionary\n",
        "- Set\n",
        "\n",
        "Note: Explicit variable declaration is not required. \n",
        "Type casting is availabe"
      ],
      "metadata": {
        "id": "hvXubdmIqsuv"
      }
    },
    {
      "cell_type": "code",
      "source": [
        "print(\"Hello World\")"
      ],
      "metadata": {
        "colab": {
          "base_uri": "https://localhost:8080/"
        },
        "id": "DKPcTgq76JFm",
        "outputId": "ddf8a83f-e2d3-4521-9f34-9d0671cc52d4"
      },
      "execution_count": null,
      "outputs": [
        {
          "output_type": "stream",
          "name": "stdout",
          "text": [
            "Hello World\n"
          ]
        }
      ]
    },
    {
      "cell_type": "code",
      "source": [
        "3+4-2"
      ],
      "metadata": {
        "colab": {
          "base_uri": "https://localhost:8080/"
        },
        "id": "NSd-mkRk6YFw",
        "outputId": "b8d14c76-cba8-4592-9d72-c40a57fd4a11"
      },
      "execution_count": null,
      "outputs": [
        {
          "output_type": "execute_result",
          "data": {
            "text/plain": [
              "5"
            ]
          },
          "metadata": {},
          "execution_count": 2
        }
      ]
    },
    {
      "cell_type": "code",
      "source": [
        "help ('keywords')"
      ],
      "metadata": {
        "colab": {
          "base_uri": "https://localhost:8080/"
        },
        "id": "9ekVdFNVtg3Q",
        "outputId": "1bcf75e1-129b-4fea-8a32-170cf52ab8d4"
      },
      "execution_count": null,
      "outputs": [
        {
          "output_type": "stream",
          "name": "stdout",
          "text": [
            "\n",
            "Here is a list of the Python keywords.  Enter any keyword to get more help.\n",
            "\n",
            "False               class               from                or\n",
            "None                continue            global              pass\n",
            "True                def                 if                  raise\n",
            "and                 del                 import              return\n",
            "as                  elif                in                  try\n",
            "assert              else                is                  while\n",
            "async               except              lambda              with\n",
            "await               finally             nonlocal            yield\n",
            "break               for                 not                 \n",
            "\n"
          ]
        }
      ]
    },
    {
      "cell_type": "code",
      "source": [
        "# Declaration and Type casting\n",
        "a = 10\n",
        "print (a, '  ', type(a))\n",
        "li = [1,2,3,4]\n",
        "print(li, \"is an example of a \" , type (li))\n",
        "tu = (5,6,7,8)\n",
        "print (tu, ':  ', type(tu))\n",
        "\n",
        "#type cast example\n",
        "inval = int(input('\\nPlease input a number : '))\n",
        "print(inval)"
      ],
      "metadata": {
        "colab": {
          "base_uri": "https://localhost:8080/"
        },
        "id": "o3vN5DIdtp2g",
        "outputId": "ba9ddd93-c710-4495-df99-b17ad9db94bb"
      },
      "execution_count": null,
      "outputs": [
        {
          "output_type": "stream",
          "name": "stdout",
          "text": [
            "10    <class 'int'>\n",
            "[1, 2, 3, 4] is an example of a  <class 'list'>\n",
            "(5, 6, 7, 8) :   <class 'tuple'>\n",
            "\n",
            "Please input a number : 7\n",
            "7\n"
          ]
        }
      ]
    },
    {
      "cell_type": "code",
      "source": [
        "# To check if the input number is a perfect number\n",
        "num=0;\n",
        "countr=1\n",
        "num=int(input('Please enter a number to check for perfection : '))\n",
        "facsum=0\n",
        "while ((countr< num)) :\n",
        "    if ((num%countr) == 0) :\n",
        "       facsum=facsum+countr\n",
        "       print(num,':',countr,':',facsum,'\\n')\n",
        "    countr = countr+1 \n",
        "print(\"sum of factors : \", facsum)\n",
        "if (facsum == num):\n",
        "  print ('Number ',num , ' is a Perfect Number')"
      ],
      "metadata": {
        "colab": {
          "base_uri": "https://localhost:8080/"
        },
        "id": "PmIg1hlVSCQv",
        "outputId": "b5cb35dd-27ff-43fe-aec2-7fe731a429ca"
      },
      "execution_count": null,
      "outputs": [
        {
          "output_type": "stream",
          "name": "stdout",
          "text": [
            "Please enter a number to check for perfection : 28\n",
            "28 : 1 : 1 \n",
            "\n",
            "28 : 2 : 3 \n",
            "\n",
            "28 : 4 : 7 \n",
            "\n",
            "28 : 7 : 14 \n",
            "\n",
            "28 : 14 : 28 \n",
            "\n",
            "sum of factors :  28\n",
            "Number  28  is a Perfect Number\n"
          ]
        }
      ]
    },
    {
      "cell_type": "code",
      "source": [
        "# WAP to check for armstrong number\n",
        "inpval = int(input('enter a number: '))\n",
        "inlist=inpval\n",
        "powersum=0\n",
        "\n",
        "while(inlist>0):            # Check if the input value is > 0. This gets divided by 10 till all the digits are exhausted\n",
        "  digit = inlist%10         # Assign the remainder of the division by 10 to get the digit\n",
        "  power = digit\n",
        "  \n",
        "  intlength=len(str(inpval))   # check for the length of the input integer\n",
        "  for x in range(intlength-1): # iterate till the number of digits . Note len() gives 1 more as the iteration starts from 0\n",
        "    power = power * digit      # to get the power of the digits \n",
        "  powersum = powersum + power  # sum the powers\n",
        "  inlist=inlist//10            # Get the integer part of division by 10 so as to skip each digit from right\n",
        "\n",
        "print('Sum of Powers = ' ,powersum)\n",
        "if(inpval==powersum):\n",
        "  print('The value input is an armstrong Number')\n",
        "    \n",
        "\n"
      ],
      "metadata": {
        "colab": {
          "base_uri": "https://localhost:8080/"
        },
        "id": "-Gy0TUc_aJgC",
        "outputId": "e4d74965-3d35-4540-fe9a-6aaade098a5d"
      },
      "execution_count": null,
      "outputs": [
        {
          "output_type": "stream",
          "name": "stdout",
          "text": [
            "enter a number: 1634\n",
            "Sum of Powers =  1634\n",
            "The value input is an armstrong Number\n"
          ]
        }
      ]
    },
    {
      "cell_type": "code",
      "source": [
        "# WAP to check for marks and results\n",
        "rollno = input ('Enter the Student Rollno ')\n",
        "stumark_eng = int(input('Enter the marks scored in English'))\n",
        "stumark_mat= int(input('Enter the marks scored in Maths'))\n",
        "stumark_sci =int(input('Enter the marks scored in Science'))\n",
        "stumark_social = int(input('Enter the marks scored in Social'))\n",
        "totalmarks = stumark_eng+stumark_mat+stumark_sci+stumark_social\n",
        "failtrue=0\n",
        "if (totalmarks > 0) :\n",
        "  if(stumark_eng < 35):\n",
        "    print(\"Failed in English\")\n",
        "    failtrue=1\n",
        "  if(stumark_mat < 35 ):\n",
        "    print(\"Failed in Math\")\n",
        "    failtrue=1\n",
        "  if(stumark_sci < 35) :\n",
        "    print('Failed in Science')\n",
        "    failtrue=1\n",
        "  if (stumark_social < 35) :\n",
        "    print(\"Failed in Social Science\")\n",
        "    failtrue=1\n",
        "  \n",
        "if (failtrue == 0 and totalmarks > 160) :\n",
        "    print('Congratulations ',rollno, ':', 'You have Passed all Papers')\n",
        "else :\n",
        "  print(\"You have failed in the aggregate total\")"
      ],
      "metadata": {
        "colab": {
          "base_uri": "https://localhost:8080/"
        },
        "id": "DhjJfGVMaX2o",
        "outputId": "fd95dbc3-a39e-473e-9c8d-4f6c3d90514e"
      },
      "execution_count": null,
      "outputs": [
        {
          "output_type": "stream",
          "name": "stdout",
          "text": [
            "Enter the Student Rollno 37\n",
            "Enter the marks scored in English40\n",
            "Enter the marks scored in Maths41\n",
            "Enter the marks scored in Science40\n",
            "Enter the marks scored in Social38\n",
            "You have failed in the aggregate total\n"
          ]
        }
      ]
    },
    {
      "cell_type": "code",
      "source": [
        "name ='Python Programming'\n",
        "name[-12:1:-1]"
      ],
      "metadata": {
        "colab": {
          "base_uri": "https://localhost:8080/",
          "height": 35
        },
        "id": "43-_xKS1aeSJ",
        "outputId": "162d9ef9-49b4-4624-ae99-8cc83d6f8a39"
      },
      "execution_count": null,
      "outputs": [
        {
          "output_type": "execute_result",
          "data": {
            "text/plain": [
              "' noht'"
            ],
            "application/vnd.google.colaboratory.intrinsic+json": {
              "type": "string"
            }
          },
          "metadata": {},
          "execution_count": 49
        }
      ]
    },
    {
      "cell_type": "code",
      "source": [
        "# WAP to Check if a string is a palindrome\n",
        "string_inp = input('Please Enter a String to Check : ')\n",
        "string_rev = string_inp[-1::-1]\n",
        "if (string_inp == string_rev) :\n",
        "  print('The String Given is a Palindrome')\n",
        "else :\n",
        "  print ('No, Not a Palindrome') "
      ],
      "metadata": {
        "colab": {
          "base_uri": "https://localhost:8080/"
        },
        "id": "JsvoC5s12UXO",
        "outputId": "a7e19974-ff3a-444e-c2cb-bdbfdd20a638"
      },
      "execution_count": null,
      "outputs": [
        {
          "output_type": "stream",
          "name": "stdout",
          "text": [
            "Please Enter a String to Check : CheckkcehC\n",
            "The String Given is a Palindrome\n"
          ]
        }
      ]
    },
    {
      "cell_type": "code",
      "source": [
        "# WAP to Check if a string is a palindrome in a second way\n",
        "string_inp = input('Please enter a string : ')\n",
        "Check_tru = print('Yes, It is a Palindrome') if (string_inp == string_inp[-1::-1]) else print(\"no it is not\")"
      ],
      "metadata": {
        "colab": {
          "base_uri": "https://localhost:8080/"
        },
        "id": "sXc14YuT4Pi9",
        "outputId": "ddc87f07-b56e-476e-cb01-bf56112ca77f"
      },
      "execution_count": null,
      "outputs": [
        {
          "output_type": "stream",
          "name": "stdout",
          "text": [
            "Please enter a string : MeeM\n",
            "Yes, It is a Palindrome\n"
          ]
        }
      ]
    },
    {
      "cell_type": "code",
      "source": [
        "#WAP to count alpha,specialchars, digits in a string\n",
        "inp_val = input('Please enter a string for frequency count : ')\n",
        "stringlen = (len(inp_val))\n",
        "acount = dcount = scount =0\n",
        "for i in range(stringlen) :\n",
        "  if (inp_val[i].isalpha()):\n",
        "     acount = acount + 1 \n",
        "  if (inp_val[i].isnumeric()):\n",
        "     dcount = dcount + 1\n",
        "  else :\n",
        "     scount = scount + 1\n",
        "print (acount,': ',dcount, ': ',scount)\n"
      ],
      "metadata": {
        "colab": {
          "base_uri": "https://localhost:8080/"
        },
        "id": "yj5qTotC-nFa",
        "outputId": "7d8ae09b-8545-42ab-aaa4-7fafb643a49a"
      },
      "execution_count": null,
      "outputs": [
        {
          "output_type": "stream",
          "name": "stdout",
          "text": [
            "Please enter a string for frequency count : ABr12$%\n",
            "3 :  2 :  5\n"
          ]
        }
      ]
    },
    {
      "cell_type": "code",
      "source": [
        "#WAP to read a line and count the words\n",
        "str_read = input('Enter the string to tokenize and count : ')\n",
        "lis1 = str_read.split()\n",
        "print('Word count = ',len(lis1))"
      ],
      "metadata": {
        "colab": {
          "base_uri": "https://localhost:8080/"
        },
        "id": "CwxUdppnE9r8",
        "outputId": "6aa376e3-e108-4826-bb1c-615559a21db7"
      },
      "execution_count": null,
      "outputs": [
        {
          "output_type": "stream",
          "name": "stdout",
          "text": [
            "Enter the string to tokenize and count : This is a test string\n",
            "Word count =  5\n"
          ]
        }
      ]
    },
    {
      "cell_type": "code",
      "source": [
        "# List functions\n",
        "word_list = ['a',\"A\",'AB','aabb']\n",
        "num_list1 = [1,2,3,4]\n",
        "alnum_list = ['a','string',11,12]\n",
        "word_list.sort()\n",
        "print(word_list)\n",
        "num_list = num_list1[:]\n",
        "num_list.sort()\n",
        "print(num_list)\n",
        "\n",
        "#alnum_list.sort()           An alphanumeric list cannot be sorted\n",
        "\n",
        "print(alnum_list)\n",
        "word_list.append('abcd')\n",
        "\n",
        "# Creating nested lists\n",
        "word_list.append(alnum_list)\n",
        "word_list.append(num_list)\n",
        "\n",
        "#word_list.sort()            A nested list cannot be sorted\n",
        "print(word_list)\n"
      ],
      "metadata": {
        "colab": {
          "base_uri": "https://localhost:8080/"
        },
        "id": "ZIulcB8JZezn",
        "outputId": "331ede47-3299-49aa-df63-fa5c8be68359"
      },
      "execution_count": null,
      "outputs": [
        {
          "output_type": "stream",
          "name": "stdout",
          "text": [
            "['A', 'AB', 'a', 'aabb']\n",
            "[1, 2, 3, 4]\n",
            "['a', 'string', 11, 12]\n",
            "['A', 'AB', 'a', 'aabb', 'abcd', ['a', 'string', 11, 12], [1, 2, 3, 4]]\n"
          ]
        }
      ]
    },
    {
      "cell_type": "code",
      "source": [
        "#Examples of List comprehension\n",
        "vec1 = [2,4,6]\n",
        "vec2 = [3,4,5]\n",
        "[ x*y for x in vec1 for y in vec2]"
      ],
      "metadata": {
        "colab": {
          "base_uri": "https://localhost:8080/"
        },
        "id": "lLPY1BYDBjIl",
        "outputId": "33b446cd-dc2a-4864-8c49-5b2d8beaea6e"
      },
      "execution_count": null,
      "outputs": [
        {
          "output_type": "execute_result",
          "data": {
            "text/plain": [
              "[6, 8, 10, 12, 16, 20, 18, 24, 30]"
            ]
          },
          "metadata": {},
          "execution_count": 1
        }
      ]
    },
    {
      "cell_type": "code",
      "source": [
        "# List comprehension for squares\n",
        "No_of_values = int(input(' Enter the number of squares to print :  '))\n",
        "[x*x for  x in range(No_of_values) if x > 0]\n"
      ],
      "metadata": {
        "colab": {
          "base_uri": "https://localhost:8080/"
        },
        "id": "2FGLEIRiB_aG",
        "outputId": "7a22073e-9298-4022-8633-186508a89eba"
      },
      "execution_count": null,
      "outputs": [
        {
          "name": "stdout",
          "output_type": "stream",
          "text": [
            " Enter the number of squares to print :  6\n"
          ]
        },
        {
          "output_type": "execute_result",
          "data": {
            "text/plain": [
              "[1, 4, 9, 16, 25]"
            ]
          },
          "metadata": {},
          "execution_count": 24
        }
      ]
    },
    {
      "cell_type": "code",
      "source": [
        "# Another list comprehension exercise\n",
        "\n",
        "fruits = ['a','apple','b','orange','banana','a','cherry']\n",
        "newlist=[]                       # create an empty newlist. \n",
        "[newlist.append(x) for x in fruits if \"a\" in x]\n",
        "print(newlist)    # if we do not print it, we get only 'none' printed\n"
      ],
      "metadata": {
        "colab": {
          "base_uri": "https://localhost:8080/"
        },
        "id": "fiaRYqALIwFw",
        "outputId": "5c446b11-e7d8-4e86-9b3b-582e4f61f330"
      },
      "execution_count": null,
      "outputs": [
        {
          "output_type": "stream",
          "name": "stdout",
          "text": [
            "['a', 'apple', 'orange', 'banana', 'a']\n"
          ]
        }
      ]
    },
    {
      "cell_type": "code",
      "source": [
        "# WAP to create a list of integers specifying the length of each word in a sentence if the word is not 'the'\n",
        "sentence = 'The quick brown fox and the lion jumped over the lazy dog'\n",
        "newlist = []\n",
        "newlist = sentence.split()\n",
        "newintlist = [len(word) for word in newlist if word != 'the']\n",
        "print (newintlist)"
      ],
      "metadata": {
        "colab": {
          "base_uri": "https://localhost:8080/"
        },
        "id": "L79-8PqeifI0",
        "outputId": "db98edeb-9b0f-42d1-d135-754651ee3f9f"
      },
      "execution_count": null,
      "outputs": [
        {
          "output_type": "stream",
          "name": "stdout",
          "text": [
            "[3, 5, 5, 3, 3, 4, 6, 4, 4, 3]\n"
          ]
        }
      ]
    },
    {
      "cell_type": "code",
      "source": [
        "# WAP to add a pair(x,y) in a list if for x in list1 if its square y is present in list2\n",
        "list1 = [1,2,3,5,7,10,15]\n",
        "list2 = [1,4,25,29,100,200,225]\n",
        " "
      ],
      "metadata": {
        "id": "5YVERbrOqruQ"
      },
      "execution_count": null,
      "outputs": []
    },
    {
      "cell_type": "markdown",
      "source": [
        "Numpy\n",
        "\n",
        "NumPy is the fundamental package for scientific computing in Python. It is a Python library that provides a multidimensional array object, various derived objects (such as masked arrays and matrices), and an assortment of routines for fast operations on arrays, including mathematical, logical, shape manipulation, sorting, selecting, I/O, basic statistical operations, random simulation and much more."
      ],
      "metadata": {
        "id": "_bN_nGffEFp0"
      }
    },
    {
      "cell_type": "code",
      "source": [
        "import numpy as np\n",
        "#Numpy arrays are faster and more compact than python lists\n",
        "# To create an arry\n",
        "a = np.array([1,2,3,4,7,10])\n",
        "print(a,type(a))\n",
        "\n",
        "b = np.array([[1,2,3],[2,3,4],[4,5,6]])\n",
        "print(a,a.size,b,b.size)\n",
        "\n",
        "print(a[0],b[0])"
      ],
      "metadata": {
        "colab": {
          "base_uri": "https://localhost:8080/"
        },
        "id": "TYVvvgL9EJar",
        "outputId": "c31e9c5c-8942-49b4-8da1-bfbb323ab6d0"
      },
      "execution_count": null,
      "outputs": [
        {
          "output_type": "stream",
          "name": "stdout",
          "text": [
            "[ 1  2  3  4  7 10] <class 'numpy.ndarray'>\n",
            "[ 1  2  3  4  7 10] 6 [[1 2 3]\n",
            " [2 3 4]\n",
            " [4 5 6]] 9\n",
            "1 [1 2 3]\n"
          ]
        }
      ]
    },
    {
      "cell_type": "code",
      "source": [
        "import numpy as np\n",
        "\n",
        "a = np.array([[1,2,3],[3,4,5],[6,7,8],[9,10,11]])\n",
        "print(a[1][2])\n",
        "print(a[0:2])\n",
        "print(a[1][0:2])\n",
        "\n",
        "# create an array using arange\n",
        "b = np.arange(10)\n",
        "print(b)\n",
        "\n",
        "c = np.arange(20,10,-1)\n",
        "d = np.arange(10,22,2)\n",
        "\n",
        "print(\"c : \",c)\n",
        "print(\"d : \",d)\n",
        "\n",
        "e = c.reshape(5,2)\n",
        "f = d.reshape(2,3)\n",
        "\n",
        "print(\"e : \",e)\n",
        "print(\"f : \",f)\n",
        "\n"
      ],
      "metadata": {
        "colab": {
          "base_uri": "https://localhost:8080/"
        },
        "id": "-_jg5b6PHMM-",
        "outputId": "bbd7dbe5-8934-44d3-d6a3-5bbf567d2733"
      },
      "execution_count": null,
      "outputs": [
        {
          "output_type": "stream",
          "name": "stdout",
          "text": [
            "5\n",
            "[[1 2 3]\n",
            " [3 4 5]]\n",
            "[3 4]\n",
            "[0 1 2 3 4 5 6 7 8 9]\n",
            "c :  [20 19 18 17 16 15 14 13 12 11]\n",
            "d :  [10 12 14 16 18 20]\n",
            "e :  [[20 19]\n",
            " [18 17]\n",
            " [16 15]\n",
            " [14 13]\n",
            " [12 11]]\n",
            "f :  [[10 12 14]\n",
            " [16 18 20]]\n"
          ]
        }
      ]
    },
    {
      "cell_type": "code",
      "source": [
        "# creating a 3 dim matrix\n",
        "m3 = np.arange(24).reshape(3,4,2)   # gives a 3 dim matrix of 4 rows and 2 cols -numpy.arange(start,stop,step,dtype)\n",
        "print(m3)"
      ],
      "metadata": {
        "colab": {
          "base_uri": "https://localhost:8080/"
        },
        "id": "XBJb4QV4Ktqo",
        "outputId": "124d0b85-4fa1-4b1d-f4d3-02ca7c20352f"
      },
      "execution_count": null,
      "outputs": [
        {
          "output_type": "stream",
          "name": "stdout",
          "text": [
            "[[[ 0  1]\n",
            "  [ 2  3]\n",
            "  [ 4  5]\n",
            "  [ 6  7]]\n",
            "\n",
            " [[ 8  9]\n",
            "  [10 11]\n",
            "  [12 13]\n",
            "  [14 15]]\n",
            "\n",
            " [[16 17]\n",
            "  [18 19]\n",
            "  [20 21]\n",
            "  [22 23]]]\n"
          ]
        }
      ]
    },
    {
      "cell_type": "code",
      "source": [
        "# exercises on reading a dataset from a file and manipulating it\n",
        "\n",
        "# To work on files from colab, you have to upload it first and then work with it\n",
        "\n",
        "import numpy as np\n",
        "from google.colab import files\n",
        "uploaded = files.upload()\n",
        "\n",
        "# A function to show the max and min values,std,mean, 1 sigma deviation of each column from a dataset/file passed as argument\n",
        "\n",
        "def showmaxmin(afile) :\n",
        "\n",
        "  # print(\"The File name passed : \",afile) # This statement will not print the name of the file. This is the content of the file\n",
        "\n",
        "  print(\"The no of rows in the file : \",afile.shape[0])\n",
        "  print(\"The no of cols in the file : \",afile.shape[1])\n",
        "  maxarray = [ afile[ : ,i].max() for i in range(afile.shape[1])]  \n",
        "  print(\"\\nMaximum values in each col : \", maxarray)\n",
        "\n",
        "  minarray = [ afile[ : ,i].min() for i in range(afile.shape[1])]\n",
        "  print(\"Minimum values in each col : \", minarray)\n",
        "\n",
        "  meanarray = [ afile[ : ,i].mean() for i in range(afile.shape[1])]\n",
        "  print(\"Mean of values in each col : \", meanarray)\n",
        "\n",
        "  stdarray = [ afile[ : ,i].std() for i in range(afile.shape[1])]\n",
        "  print(\"Std deviation of values in each col : \", stdarray)\n",
        "\n",
        "  Range_1sigma = np.arange(10).reshape(5,2)  # define an array of 10 items and reshape it to make it 5 rows and 2 cols to store the 1 sigma range\n",
        "  \n",
        "  Range_1sigma_plus = [meanarray[i]+stdarray[i] for i in range(5)]      # Stores the mean + 1 sigma values\n",
        "  Range_1sigma_minus = [meanarray[i]-stdarray[i] for i in range(5)]     # Stores the mean - 1 sigma values\n",
        "  \n",
        "  print(\"\\nMean + 1 Sigma : \",Range_1sigma_plus )\n",
        "  print(\"Mean -1 sigma : \",Range_1sigma_minus )\n",
        "\n",
        "  for i in range(5) :\n",
        "    for j in [0,1] :\n",
        "      Range_1sigma[i][j] = Range_1sigma_minus[i]\n",
        "      \n",
        "    Range_1sigma[i][j] = Range_1sigma_plus[i] \n",
        "  \n",
        "  \n",
        "  print(\"\\nMax numbers fall between (Range of values between +/- 1sigma ) : \")\n",
        "  print(Range_1sigma )\n",
        "\n",
        "# Get the contents of the file from colab\n",
        "myfile = np.genfromtxt(\"Stores.csv\",delimiter = \",\",skip_header=1)\n",
        "\n",
        "print(myfile.shape)   # No of Rows and columns\n",
        "\n",
        "showmaxmin(myfile)\n",
        "\n"
      ],
      "metadata": {
        "colab": {
          "resources": {
            "http://localhost:8080/nbextensions/google.colab/files.js": {
              "data": "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",
              "ok": true,
              "headers": [
                [
                  "content-type",
                  "application/javascript"
                ]
              ],
              "status": 200,
              "status_text": ""
            }
          },
          "base_uri": "https://localhost:8080/",
          "height": 385
        },
        "id": "dFEtmgCbL3DY",
        "outputId": "ffdcabf3-67de-49b6-db1a-07dc521a1a88"
      },
      "execution_count": null,
      "outputs": [
        {
          "output_type": "display_data",
          "data": {
            "text/plain": [
              "<IPython.core.display.HTML object>"
            ],
            "text/html": [
              "\n",
              "     <input type=\"file\" id=\"files-0dd3581c-a0b9-45d6-82d8-81724ea939ae\" name=\"files[]\" multiple disabled\n",
              "        style=\"border:none\" />\n",
              "     <output id=\"result-0dd3581c-a0b9-45d6-82d8-81724ea939ae\">\n",
              "      Upload widget is only available when the cell has been executed in the\n",
              "      current browser session. Please rerun this cell to enable.\n",
              "      </output>\n",
              "      <script src=\"/nbextensions/google.colab/files.js\"></script> "
            ]
          },
          "metadata": {}
        },
        {
          "output_type": "stream",
          "name": "stdout",
          "text": [
            "Saving Stores.csv to Stores (13).csv\n",
            "(896, 5)\n",
            "The no of rows in the file :  896\n",
            "The no of cols in the file :  5\n",
            "\n",
            "Maximum values in each col :  [896.0, 2229.0, 2667.0, 1560.0, 116320.0]\n",
            "Minimum values in each col :  [1.0, 775.0, 932.0, 10.0, 14920.0]\n",
            "Mean of values in each col :  [448.5, 1485.4095982142858, 1782.0357142857142, 786.3504464285714, 59351.30580357143]\n",
            "Std deviation of values in each col :  [258.65275950586727, 250.09733077990143, 299.7046664924438, 265.24114272571586, 17181.14616881951]\n",
            "\n",
            "Mean + 1 Sigma :  [707.1527595058673, 1735.506928994187, 2081.740380778158, 1051.5915891542872, 76532.45197239093]\n",
            "Mean -1 sigma :  [189.84724049413273, 1235.3122674343845, 1482.3310477932705, 521.1093037028556, 42170.15963475192]\n",
            "\n",
            "Max numbers fall between (Range of values between +/- 1sigma ) : \n",
            "[[  189   707]\n",
            " [ 1235  1735]\n",
            " [ 1482  2081]\n",
            " [  521  1051]\n",
            " [42170 76532]]\n"
          ]
        }
      ]
    },
    {
      "cell_type": "code",
      "source": [
        "import numpy as np\n",
        "import matplotlib.pyplot as plt\n",
        "arr1 = np.array([1,3,5,7,22,44,1,2,3])\n",
        "plt.hist(arr1)\n"
      ],
      "metadata": {
        "colab": {
          "base_uri": "https://localhost:8080/",
          "height": 317
        },
        "id": "pGRmG5myF78K",
        "outputId": "90a8b7c2-175f-4eb8-bb05-7a2d136f5e11"
      },
      "execution_count": null,
      "outputs": [
        {
          "output_type": "execute_result",
          "data": {
            "text/plain": [
              "(array([6., 1., 0., 0., 1., 0., 0., 0., 0., 1.]),\n",
              " array([ 1. ,  5.3,  9.6, 13.9, 18.2, 22.5, 26.8, 31.1, 35.4, 39.7, 44. ]),\n",
              " <a list of 10 Patch objects>)"
            ]
          },
          "metadata": {},
          "execution_count": 3
        },
        {
          "output_type": "display_data",
          "data": {
            "text/plain": [
              "<Figure size 432x288 with 1 Axes>"
            ],
            "image/png": "[encoded data removed]"
          },
          "metadata": {
            "needs_background": "light"
          }
        }
      ]
    },
    {
      "cell_type": "markdown",
      "source": [
        ""
      ],
      "metadata": {
        "id": "B5p1kZGzEIVP"
      }
    }
  ]
}
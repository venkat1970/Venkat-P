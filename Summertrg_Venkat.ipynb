{
  "nbformat": 4,
  "nbformat_minor": 0,
  "metadata": {
    "colab": {
      "name": "Summertrg-Venkat.ipynb",
      "provenance": [],
      "collapsed_sections": []
    },
    "kernelspec": {
      "name": "python3",
      "display_name": "Python 3"
    },
    "language_info": {
      "name": "python"
    }
  },
  "cells": [
    {
      "cell_type": "code",
      "source": [
        "# Summer training Python"
      ],
      "metadata": {
        "id": "Dy4YOYdE4FlP"
      },
      "execution_count": null,
      "outputs": []
    },
    {
      "cell_type": "markdown",
      "source": [
        "Python Basics"
      ],
      "metadata": {
        "id": "XMbWbGiJ4RFI"
      }
    },
    {
      "cell_type": "markdown",
      "source": [
        "Python is a computer programming language, that was created by Guido van Rossum, named after the BBC television show ‘Monty Python’s Flying Circus.’ \n",
        "It is very popular and very easy to learn and has enormous applications.\n",
        "It is case sensitive \n"
      ],
      "metadata": {
        "id": "BdfqVTgM4vDA"
      }
    },
    {
      "cell_type": "markdown",
      "source": [
        "Features\n",
        "\n",
        "- General purpose, Object oriented and interactive high level programming language\n",
        "- It is dynamically typed\n",
        "- No manual compilation is required\n",
        "- Cross Platform\n",
        "- Extensible\n",
        "- Open source with support through a rich set of libraries and IDEs\n",
        "- Automatic garbage collection\n"
      ],
      "metadata": {
        "id": "5LcJ4qaNqG_I"
      }
    },
    {
      "cell_type": "markdown",
      "source": [
        "Support for languages and frameworks\n",
        "- Cpython - Written in C\n",
        "- Jpython - For Java JVM\n",
        "- IronPython - For .NET framework\n",
        "- Django - For writing web applications\n",
        "\n",
        "Supported IDEs\n",
        "- Jupyter\n",
        "- Spyder\n",
        "- PyCharm\n",
        "- Rodeo\n",
        "- ATOM IDE\n",
        "\n",
        "Libraries popularly used in Python\n",
        "- Numpy - Provides large multi dimensional array functionality\n",
        "- Pandas - Provides dataframes\n",
        "- MatplotLib - For plotting 2 dim data\n",
        "- Cartopy - For GIS data\n",
        "\n",
        "Common DataTypes support\n",
        "- Int\n",
        "- char\n",
        "- float\n",
        "- string\n",
        "- list\n",
        "- tuple\n",
        "- dictionary\n",
        "- Set\n",
        "\n",
        "Note: Explicit variable declaration is not required. \n",
        "Type casting is availabe"
      ],
      "metadata": {
        "id": "hvXubdmIqsuv"
      }
    },
    {
      "cell_type": "code",
      "source": [
        "print(\"Hello World\")"
      ],
      "metadata": {
        "colab": {
          "base_uri": "https://localhost:8080/"
        },
        "id": "DKPcTgq76JFm",
        "outputId": "ddf8a83f-e2d3-4521-9f34-9d0671cc52d4"
      },
      "execution_count": 1,
      "outputs": [
        {
          "output_type": "stream",
          "name": "stdout",
          "text": [
            "Hello World\n"
          ]
        }
      ]
    },
    {
      "cell_type": "code",
      "source": [
        "3+4-2"
      ],
      "metadata": {
        "colab": {
          "base_uri": "https://localhost:8080/"
        },
        "id": "NSd-mkRk6YFw",
        "outputId": "b8d14c76-cba8-4592-9d72-c40a57fd4a11"
      },
      "execution_count": 2,
      "outputs": [
        {
          "output_type": "execute_result",
          "data": {
            "text/plain": [
              "5"
            ]
          },
          "metadata": {},
          "execution_count": 2
        }
      ]
    },
    {
      "cell_type": "code",
      "source": [
        "help ('keywords')"
      ],
      "metadata": {
        "colab": {
          "base_uri": "https://localhost:8080/"
        },
        "id": "9ekVdFNVtg3Q",
        "outputId": "1bcf75e1-129b-4fea-8a32-170cf52ab8d4"
      },
      "execution_count": 1,
      "outputs": [
        {
          "output_type": "stream",
          "name": "stdout",
          "text": [
            "\n",
            "Here is a list of the Python keywords.  Enter any keyword to get more help.\n",
            "\n",
            "False               class               from                or\n",
            "None                continue            global              pass\n",
            "True                def                 if                  raise\n",
            "and                 del                 import              return\n",
            "as                  elif                in                  try\n",
            "assert              else                is                  while\n",
            "async               except              lambda              with\n",
            "await               finally             nonlocal            yield\n",
            "break               for                 not                 \n",
            "\n"
          ]
        }
      ]
    },
    {
      "cell_type": "code",
      "source": [
        "# Declaration and Type casting\n",
        "a = 10\n",
        "print (a, '  ', type(a))\n",
        "li = [1,2,3,4]\n",
        "print(li, \"is an example of a \" , type (li))\n",
        "tu = (5,6,7,8)\n",
        "print (tu, ':  ', type(tu))\n",
        "\n",
        "#type cast example\n",
        "inval = int(input('\\nPlease input a number : '))\n",
        "print(inval)"
      ],
      "metadata": {
        "colab": {
          "base_uri": "https://localhost:8080/"
        },
        "id": "o3vN5DIdtp2g",
        "outputId": "ba9ddd93-c710-4495-df99-b17ad9db94bb"
      },
      "execution_count": 6,
      "outputs": [
        {
          "output_type": "stream",
          "name": "stdout",
          "text": [
            "10    <class 'int'>\n",
            "[1, 2, 3, 4] is an example of a  <class 'list'>\n",
            "(5, 6, 7, 8) :   <class 'tuple'>\n",
            "\n",
            "Please input a number : 7\n",
            "7\n"
          ]
        }
      ]
    },
    {
      "cell_type": "code",
      "source": [
        "# To check if the input number is a perfect number\n",
        "num=0;\n",
        "countr=1\n",
        "num=int(input('Please enter a number to check for perfection : '))\n",
        "facsum=0\n",
        "while ((countr< num)) :\n",
        "    if ((num%countr) == 0) :\n",
        "       facsum=facsum+countr\n",
        "       print(num,':',countr,':',facsum,'\\n')\n",
        "    countr = countr+1 \n",
        "print(\"sum of factors : \", facsum)\n",
        "if (facsum == num):\n",
        "  print ('Number ',num , ' is a Perfect Number')"
      ],
      "metadata": {
        "colab": {
          "base_uri": "https://localhost:8080/"
        },
        "id": "PmIg1hlVSCQv",
        "outputId": "b5cb35dd-27ff-43fe-aec2-7fe731a429ca"
      },
      "execution_count": 6,
      "outputs": [
        {
          "output_type": "stream",
          "name": "stdout",
          "text": [
            "Please enter a number to check for perfection : 28\n",
            "28 : 1 : 1 \n",
            "\n",
            "28 : 2 : 3 \n",
            "\n",
            "28 : 4 : 7 \n",
            "\n",
            "28 : 7 : 14 \n",
            "\n",
            "28 : 14 : 28 \n",
            "\n",
            "sum of factors :  28\n",
            "Number  28  is a Perfect Number\n"
          ]
        }
      ]
    },
    {
      "cell_type": "code",
      "source": [
        "# WAP to check for armstrong number\n",
        "inpval = int(input('enter a number: '))\n",
        "inlist=inpval\n",
        "powersum=0\n",
        "\n",
        "while(inlist>0):            # Check if the input value is > 0. This gets divided by 10 till all the digits are exhausted\n",
        "  digit = inlist%10         # Assign the remainder of the division by 10 to get the digit\n",
        "  power = digit\n",
        "  \n",
        "  intlength=len(str(inpval))   # check for the length of the input integer\n",
        "  for x in range(intlength-1): # iterate till the number of digits . Note len() gives 1 more as the iteration starts from 0\n",
        "    power = power * digit      # to get the power of the digits \n",
        "  powersum = powersum + power  # sum the powers\n",
        "  inlist=inlist//10            # Get the integer part of division by 10 so as to skip each digit from right\n",
        "\n",
        "print('Sum of Powers = ' ,powersum)\n",
        "if(inpval==powersum):\n",
        "  print('The value input is an armstrong Number')\n",
        "    \n",
        "\n"
      ],
      "metadata": {
        "colab": {
          "base_uri": "https://localhost:8080/"
        },
        "id": "-Gy0TUc_aJgC",
        "outputId": "e4d74965-3d35-4540-fe9a-6aaade098a5d"
      },
      "execution_count": 48,
      "outputs": [
        {
          "output_type": "stream",
          "name": "stdout",
          "text": [
            "enter a number: 1634\n",
            "Sum of Powers =  1634\n",
            "The value input is an armstrong Number\n"
          ]
        }
      ]
    },
    {
      "cell_type": "code",
      "source": [
        "# WAP to check for marks and results\n",
        "rollno = input ('Enter the Student Rollno ')\n",
        "stumark_eng = int(input('Enter the marks scored in English'))\n",
        "stumark_mat= int(input('Enter the marks scored in Maths'))\n",
        "stumark_sci =int(input('Enter the marks scored in Science'))\n",
        "stumark_social = int(input('Enter the marks scored in Social'))\n",
        "totalmarks = stumark_eng+stumark_mat+stumark_sci+stumark_social\n",
        "failtrue=0\n",
        "if (totalmarks > 0) :\n",
        "  if(stumark_eng < 35):\n",
        "    print(\"Failed in English\")\n",
        "    failtrue=1\n",
        "  if(stumark_mat < 35 ):\n",
        "    print(\"Failed in Math\")\n",
        "    failtrue=1\n",
        "  if(stumark_sci < 35) :\n",
        "    print('Failed in Science')\n",
        "    failtrue=1\n",
        "  if (stumark_social < 35) :\n",
        "    print(\"Failed in Social Science\")\n",
        "    failtrue=1\n",
        "  \n",
        "if (failtrue == 0 and totalmarks > 160) :\n",
        "    print('Congratulations ',rollno, ':', 'You have Passed all Papers')\n",
        "else :\n",
        "  print(\"You have failed in the aggregate total\")"
      ],
      "metadata": {
        "colab": {
          "base_uri": "https://localhost:8080/"
        },
        "id": "DhjJfGVMaX2o",
        "outputId": "fd95dbc3-a39e-473e-9c8d-4f6c3d90514e"
      },
      "execution_count": 43,
      "outputs": [
        {
          "output_type": "stream",
          "name": "stdout",
          "text": [
            "Enter the Student Rollno 37\n",
            "Enter the marks scored in English40\n",
            "Enter the marks scored in Maths41\n",
            "Enter the marks scored in Science40\n",
            "Enter the marks scored in Social38\n",
            "You have failed in the aggregate total\n"
          ]
        }
      ]
    },
    {
      "cell_type": "code",
      "source": [
        "name ='Python Programming'\n",
        "name[-12:1:-1]"
      ],
      "metadata": {
        "colab": {
          "base_uri": "https://localhost:8080/",
          "height": 35
        },
        "id": "43-_xKS1aeSJ",
        "outputId": "162d9ef9-49b4-4624-ae99-8cc83d6f8a39"
      },
      "execution_count": 49,
      "outputs": [
        {
          "output_type": "execute_result",
          "data": {
            "text/plain": [
              "' noht'"
            ],
            "application/vnd.google.colaboratory.intrinsic+json": {
              "type": "string"
            }
          },
          "metadata": {},
          "execution_count": 49
        }
      ]
    },
    {
      "cell_type": "code",
      "source": [
        "# WAP to Check if a string is a palindrome\n",
        "string_inp = input('Please Enter a String to Check : ')\n",
        "string_rev = string_inp[-1::-1]\n",
        "if (string_inp == string_rev) :\n",
        "  print('The String Given is a Palindrome')\n",
        "else :\n",
        "  print ('No, Not a Palindrome') "
      ],
      "metadata": {
        "colab": {
          "base_uri": "https://localhost:8080/"
        },
        "id": "JsvoC5s12UXO",
        "outputId": "a7e19974-ff3a-444e-c2cb-bdbfdd20a638"
      },
      "execution_count": 5,
      "outputs": [
        {
          "output_type": "stream",
          "name": "stdout",
          "text": [
            "Please Enter a String to Check : CheckkcehC\n",
            "The String Given is a Palindrome\n"
          ]
        }
      ]
    },
    {
      "cell_type": "code",
      "source": [
        "# WAP to Check if a string is a palindrome in a second way\n",
        "string_inp = input('Please enter a string : ')\n",
        "Check_tru = print('Yes, It is a Palindrome') if (string_inp == string_inp[-1::-1]) else print(\"no it is not\")"
      ],
      "metadata": {
        "colab": {
          "base_uri": "https://localhost:8080/"
        },
        "id": "sXc14YuT4Pi9",
        "outputId": "ddc87f07-b56e-476e-cb01-bf56112ca77f"
      },
      "execution_count": 7,
      "outputs": [
        {
          "output_type": "stream",
          "name": "stdout",
          "text": [
            "Please enter a string : MeeM\n",
            "Yes, It is a Palindrome\n"
          ]
        }
      ]
    },
    {
      "cell_type": "code",
      "source": [
        "#WAP to count alpha,specialchars, digits in a string\n",
        "inp_val = input('Please enter a string for frequency count : ')\n",
        "stringlen = (len(inp_val))\n",
        "acount = dcount = scount =0\n",
        "for i in range(stringlen) :\n",
        "  if (inp_val[i].isalpha()):\n",
        "     acount = acount + 1 \n",
        "  if (inp_val[i].isnumeric()):\n",
        "     dcount = dcount + 1\n",
        "  else :\n",
        "     scount = scount + 1\n",
        "print (acount,': ',dcount, ': ',scount)\n"
      ],
      "metadata": {
        "colab": {
          "base_uri": "https://localhost:8080/"
        },
        "id": "yj5qTotC-nFa",
        "outputId": "7d8ae09b-8545-42ab-aaa4-7fafb643a49a"
      },
      "execution_count": 22,
      "outputs": [
        {
          "output_type": "stream",
          "name": "stdout",
          "text": [
            "Please enter a string for frequency count : ABr12$%\n",
            "3 :  2 :  5\n"
          ]
        }
      ]
    },
    {
      "cell_type": "code",
      "source": [
        "#WAP to read a line and count the words\n",
        "str_read = input('Enter the string to tokenize and count : ')\n",
        "lis1 = str_read.split()\n",
        "print('Word count = ',len(lis1))"
      ],
      "metadata": {
        "colab": {
          "base_uri": "https://localhost:8080/"
        },
        "id": "CwxUdppnE9r8",
        "outputId": "6aa376e3-e108-4826-bb1c-615559a21db7"
      },
      "execution_count": 23,
      "outputs": [
        {
          "output_type": "stream",
          "name": "stdout",
          "text": [
            "Enter the string to tokenize and count : This is a test string\n",
            "Word count =  5\n"
          ]
        }
      ]
    },
    {
      "cell_type": "code",
      "source": [
        "# List functions\n",
        "word_list = ['a',\"A\",'AB','aabb']\n",
        "num_list1 = [1,2,3,4]\n",
        "alnum_list = ['a','string',11,12]\n",
        "word_list.sort()\n",
        "print(word_list)\n",
        "num_list = num_list1[:]\n",
        "num_list.sort()\n",
        "print(num_list)\n",
        "\n",
        "#alnum_list.sort()           An alphanumeric list cannot be sorted\n",
        "\n",
        "print(alnum_list)\n",
        "word_list.append('abcd')\n",
        "\n",
        "# Creating nested lists\n",
        "word_list.append(alnum_list)\n",
        "word_list.append(num_list)\n",
        "\n",
        "#word_list.sort()            A nested list cannot be sorted\n",
        "print(word_list)\n"
      ],
      "metadata": {
        "colab": {
          "base_uri": "https://localhost:8080/"
        },
        "id": "ZIulcB8JZezn",
        "outputId": "331ede47-3299-49aa-df63-fa5c8be68359"
      },
      "execution_count": 37,
      "outputs": [
        {
          "output_type": "stream",
          "name": "stdout",
          "text": [
            "['A', 'AB', 'a', 'aabb']\n",
            "[1, 2, 3, 4]\n",
            "['a', 'string', 11, 12]\n",
            "['A', 'AB', 'a', 'aabb', 'abcd', ['a', 'string', 11, 12], [1, 2, 3, 4]]\n"
          ]
        }
      ]
    },
    {
      "cell_type": "code",
      "source": [
        "#Examples of List comprehension\n",
        "vec1 = [2,4,6]\n",
        "vec2 = [3,4,5]\n",
        "[ x*y for x in vec1 for y in vec2]"
      ],
      "metadata": {
        "colab": {
          "base_uri": "https://localhost:8080/"
        },
        "id": "lLPY1BYDBjIl",
        "outputId": "33b446cd-dc2a-4864-8c49-5b2d8beaea6e"
      },
      "execution_count": 1,
      "outputs": [
        {
          "output_type": "execute_result",
          "data": {
            "text/plain": [
              "[6, 8, 10, 12, 16, 20, 18, 24, 30]"
            ]
          },
          "metadata": {},
          "execution_count": 1
        }
      ]
    },
    {
      "cell_type": "code",
      "source": [
        "# List comprehension for squares\n",
        "No_of_values = int(input(' Enter the number of squares to print :  '))\n",
        "[x*x for  x in range(No_of_values) if x > 0]\n"
      ],
      "metadata": {
        "colab": {
          "base_uri": "https://localhost:8080/"
        },
        "id": "2FGLEIRiB_aG",
        "outputId": "7a22073e-9298-4022-8633-186508a89eba"
      },
      "execution_count": 24,
      "outputs": [
        {
          "name": "stdout",
          "output_type": "stream",
          "text": [
            " Enter the number of squares to print :  6\n"
          ]
        },
        {
          "output_type": "execute_result",
          "data": {
            "text/plain": [
              "[1, 4, 9, 16, 25]"
            ]
          },
          "metadata": {},
          "execution_count": 24
        }
      ]
    },
    {
      "cell_type": "code",
      "source": [
        "# Another list comprehension exercise\n",
        "\n",
        "fruits = ['a','apple','b','orange','banana','a','cherry']\n",
        "newlist=[]                       # create an empty newlist. \n",
        "[newlist.append(x) for x in fruits if \"a\" in x]\n",
        "print(newlist)    # if we do not print it, we get only 'none' printed\n"
      ],
      "metadata": {
        "colab": {
          "base_uri": "https://localhost:8080/"
        },
        "id": "fiaRYqALIwFw",
        "outputId": "5c446b11-e7d8-4e86-9b3b-582e4f61f330"
      },
      "execution_count": 20,
      "outputs": [
        {
          "output_type": "stream",
          "name": "stdout",
          "text": [
            "['a', 'apple', 'orange', 'banana', 'a']\n"
          ]
        }
      ]
    },
    {
      "cell_type": "code",
      "source": [
        "# WAP to create a list of integers specifying the length of each word in a sentence if the word is not 'the'\n",
        "sentence = 'The quick brown fox and the lion jumped over the lazy dog'\n",
        "newlist = []\n",
        "newlist = sentence.split()\n",
        "newintlist = [len(word) for word in newlist if word != 'the']\n",
        "print (newintlist)"
      ],
      "metadata": {
        "colab": {
          "base_uri": "https://localhost:8080/"
        },
        "id": "L79-8PqeifI0",
        "outputId": "db98edeb-9b0f-42d1-d135-754651ee3f9f"
      },
      "execution_count": 3,
      "outputs": [
        {
          "output_type": "stream",
          "name": "stdout",
          "text": [
            "[3, 5, 5, 3, 3, 4, 6, 4, 4, 3]\n"
          ]
        }
      ]
    }
  ]
}